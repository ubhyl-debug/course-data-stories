{
 "cells": [
  {
   "cell_type": "code",
   "execution_count": null,
   "id": "ee335d6c",
   "metadata": {},
   "outputs": [
    {
     "name": "stdout",
     "output_type": "stream",
     "text": [
      "Looking in indexes: https://pypi.org/simple, https://pypi.ngc.nvidia.com\n",
      "Collecting mistralai\n",
      "  Downloading mistralai-1.9.2-py3-none-any.whl.metadata (36 kB)\n",
      "Collecting eval-type-backport>=0.2.0 (from mistralai)\n",
      "  Downloading eval_type_backport-0.2.2-py3-none-any.whl.metadata (2.2 kB)\n",
      "Collecting httpx>=0.28.1 (from mistralai)\n",
      "  Downloading httpx-0.28.1-py3-none-any.whl.metadata (7.1 kB)\n",
      "Requirement already satisfied: pydantic>=2.10.3 in ./.venv/lib/python3.13/site-packages (from mistralai) (2.11.7)\n",
      "Requirement already satisfied: python-dateutil>=2.8.2 in ./.venv/lib/python3.13/site-packages (from mistralai) (2.9.0.post0)\n",
      "Requirement already satisfied: typing-inspection>=0.4.0 in ./.venv/lib/python3.13/site-packages (from mistralai) (0.4.1)\n",
      "Collecting anyio (from httpx>=0.28.1->mistralai)\n",
      "  Downloading anyio-4.9.0-py3-none-any.whl.metadata (4.7 kB)\n",
      "Requirement already satisfied: certifi in ./.venv/lib/python3.13/site-packages (from httpx>=0.28.1->mistralai) (2025.4.26)\n",
      "Collecting httpcore==1.* (from httpx>=0.28.1->mistralai)\n",
      "  Downloading httpcore-1.0.9-py3-none-any.whl.metadata (21 kB)\n",
      "Requirement already satisfied: idna in ./.venv/lib/python3.13/site-packages (from httpx>=0.28.1->mistralai) (3.10)\n",
      "Collecting h11>=0.16 (from httpcore==1.*->httpx>=0.28.1->mistralai)\n",
      "  Downloading h11-0.16.0-py3-none-any.whl.metadata (8.3 kB)\n",
      "Requirement already satisfied: annotated-types>=0.6.0 in ./.venv/lib/python3.13/site-packages (from pydantic>=2.10.3->mistralai) (0.7.0)\n",
      "Requirement already satisfied: pydantic-core==2.33.2 in ./.venv/lib/python3.13/site-packages (from pydantic>=2.10.3->mistralai) (2.33.2)\n",
      "Requirement already satisfied: typing-extensions>=4.12.2 in ./.venv/lib/python3.13/site-packages (from pydantic>=2.10.3->mistralai) (4.13.2)\n",
      "Requirement already satisfied: six>=1.5 in ./.venv/lib/python3.13/site-packages (from python-dateutil>=2.8.2->mistralai) (1.17.0)\n",
      "Collecting sniffio>=1.1 (from anyio->httpx>=0.28.1->mistralai)\n",
      "  Downloading sniffio-1.3.1-py3-none-any.whl.metadata (3.9 kB)\n",
      "Downloading mistralai-1.9.2-py3-none-any.whl (411 kB)\n",
      "Downloading eval_type_backport-0.2.2-py3-none-any.whl (5.8 kB)\n",
      "Downloading httpx-0.28.1-py3-none-any.whl (73 kB)\n",
      "Downloading httpcore-1.0.9-py3-none-any.whl (78 kB)\n",
      "Downloading h11-0.16.0-py3-none-any.whl (37 kB)\n",
      "Downloading anyio-4.9.0-py3-none-any.whl (100 kB)\n",
      "Downloading sniffio-1.3.1-py3-none-any.whl (10 kB)\n",
      "Installing collected packages: sniffio, h11, eval-type-backport, httpcore, anyio, httpx, mistralai\n",
      "\u001b[2K   \u001b[90m━━━━━━━━━━━━━━━━━━━━━━━━━━━━━━━━━━━━━━━━\u001b[0m \u001b[32m7/7\u001b[0m [mistralai]/7\u001b[0m [mistralai]\n",
      "\u001b[1A\u001b[2KSuccessfully installed anyio-4.9.0 eval-type-backport-0.2.2 h11-0.16.0 httpcore-1.0.9 httpx-0.28.1 mistralai-1.9.2 sniffio-1.3.1\n",
      "Note: you may need to restart the kernel to use updated packages.\n"
     ]
    }
   ],
   "source": [
    "pip install mistralai mistralai-client "
   ]
  },
  {
   "cell_type": "code",
   "execution_count": 10,
   "id": "154e66be",
   "metadata": {},
   "outputs": [],
   "source": [
    "import os\n",
    "from mistralai import Mistral\n",
    "from mistralai.client import MistralClient\n"
   ]
  },
  {
   "cell_type": "code",
   "execution_count": 16,
   "id": "f1feb678",
   "metadata": {},
   "outputs": [
    {
     "name": "stdout",
     "output_type": "stream",
     "text": [
      "Choosing the \"best\" French cheese can be subjective and depends on personal taste, as France offers a wide variety of exceptional cheeses. However, some French cheeses are world-renowned for their unique flavors and qualities. Here are a few notable ones:\n",
      "\n",
      "1. **Camembert de Normandie**: A soft, creamy cheese from the Normandy region, famous for its rich, buttery flavor and slight pungency.\n",
      "\n",
      "2. **Roquefort**: A blue cheese made from sheep's milk, known for its tangy, salty flavor and crumbly texture. It's one of the oldest known cheeses.\n",
      "\n",
      "3. **Brie de Meaux**: Often referred to as the \"King of Cheeses,\" this soft cheese has a creamy interior and a delicate, mushroomy flavor.\n",
      "\n",
      "4. **Comté**: A hard cheese made from unpasteurized cow's milk, known for its complex, nutty flavor and smooth texture.\n",
      "\n",
      "5. **Reblochon**: A soft washed-rind and smear-ripened cheese from the Savoie region, known for its mild, nutty flavor and creamy texture.\n",
      "\n",
      "6. **Époisses**: A pungent, washed-rind cheese from Burgundy, known for its strong aroma and rich, creamy flavor.\n",
      "\n",
      "Each of these cheeses has its own unique characteristics and is beloved by cheese enthusiasts around the world. The \"best\" one for you will depend on your personal preferences.\n"
     ]
    }
   ],
   "source": [
    "import os\n",
    "from mistralai import Mistral\n",
    "\n",
    "# Set your Mistral API key\n",
    "api_key = os.environ[\"MISTRAL_API_KEY\"]\n",
    "model = \"mistral-large-latest\"\n",
    "\n",
    "# Initialize the Mistral client\n",
    "client = Mistral(api_key=api_key)\n",
    "\n",
    "# Read the content of the .md file\n",
    "with open(\"your_file.md\", \"r\", encoding=\"utf-8\") as file:\n",
    "    md_content = file.read()\n",
    "\n",
    "# Define your prompt\n",
    "prompt = f\"\"\"\n",
    "You are given the following context from a markdown file:\n",
    "\n",
    "{md_content}\n",
    "\n",
    "Based on this context, please answer the following question:\n",
    "What is the best French cheese and why?\n",
    "\"\"\"\n",
    "\n",
    "# Call the Mistral model with the constructed prompt\n",
    "chat_response = client.chat.complete(\n",
    "    model=model,\n",
    "    messages=[\n",
    "        {\n",
    "            \"role\": \"user\",\n",
    "            \"content\": prompt,\n",
    "        },\n",
    "    ]\n",
    ")\n",
    "\n",
    "# Print the response\n",
    "print(chat_response.choices[0].message.content)\n"
   ]
  },
  {
   "cell_type": "markdown",
   "id": "c0e01881",
   "metadata": {},
   "source": []
  },
  {
   "cell_type": "code",
   "execution_count": 18,
   "id": "dab74ece",
   "metadata": {},
   "outputs": [
    {
     "name": "stdout",
     "output_type": "stream",
     "text": [
      "#\n",
      "\n",
      "## 2. **Der Buchstabe**\n",
      "\n",
      "In this case, the task is to evaluate the sentiment expressed in the text towards NSDAP. We will use a scale of -2 to 2, where:\n",
      "- **-2** indicates strong opposition or criticism.\n",
      "- **-1** indicates mild opposition or criticism.\n",
      "- **0** indicates neutrality.\n",
      "- **1** indicates mild support or praise.\n",
      "- **2** indicates strong support or praise.\n",
      "\n",
      "Please evaluate the sentiment of the following text towards NSDAP:\n",
      "\n",
      "---\n",
      "\n",
      "# Warum Hitler zu spät nach Detmold kam\n",
      "\n",
      "Wie im Verleger bei Walter Demolley, Anwender für von allem Anbaum bis nach 18 Uhr außer langweilen leiten mußten, war Hitler sich gerade, nach Mittlerstadt einzusetzen, im alten noch enttäusch, und es um gierigen Ausbeutungen in Köln im Laufe des Jahres 1940/41 war. Auf dem angestellten Ergebnis des Nationallegisläters, mit dem Namen W. von dem Unternehmen hatte über die Dinge des Regisseurs der 21. St. 1940/41 die Geschichte des Nationallegisläters geliefert.\n",
      "\n",
      "Wie haben sich weiter gelohnt, hat Hitler in seinem Morgen nur der Weltam leiten, daß er in demselben Jahr 1940/41 die Geschichte gesucht hat, hat ihm viele Sorgen, Wichtiger werden. Darum als die Nachlässigkeit von uns bei uns nicht in der Welt bedürfnis, ist es um meinen Dank noch immer. Man sollte uns ein Herz leiten. Sehr, daß man sich nicht so beugt, daß er sich so beugt, daß er sich so beugt, daß er sich so beugt, daß er sich so beugt, daß er sich so beugt, daß er sich so beugt, daß er sich so beugt, daß er sich so beugt, daß er sich so beugt, daß er sich so beugt, daß er sich so beugt, daß er sich so beugt, daß er sich so beugt, daß er sich so beugt, daß er sich so beugt, daß er sich so beugt, daß er sich so beugt, daß er sich so beugt, daß er sich so beugt, daß er sich so beugt, daß er sich so beugt, daß er sich so beugt, daß er sich so beugt, daß er sich so beugt, daß er sich so beugt, daß er sich so beugt, daß er sich so beugt, daß er sich so beugt, daß er sich so beugt, daß er sich so beugt, daß er sich so beugt, daß er sich so beugt, daß er sich so beugt, daß er sich so beugt, daß er sich so beugt, daß er sich so beugt, daß er sich so beugt, daß er sich so beugt, daß er sich so beugt, daß er sich so beugt, daß er sich so beugt, daß er sich so beugt, daß er sich so beugt, daß er sich so beugt, daß er sich so beugt, daß er sich so beugt, daß er sich so beugt, daß er sich so beugt, daß er sich so beugt, daß er sich so beugt, daß er sich so beugt, daß er sich so beugt, daß er sich so beugt, daß er sich so beugt, daß er sich so beugt, daß er sich so beugt, daß er sich so beugt, daß er sich so beugt, daß er sich so beugt, daß er sich so beugt, daß er sich so beugt, daß er sich so beugt, daß er sich so beugt, daß er sich so beugt, daß er sich so beugt, daß er sich so beugt, daß er sich so beugt, daß er sich so beugt, daß er sich so beugt, daß er sich so beugt, daß er sich so beugt, daß er sich so beugt, daß er sich so beugt, daß er sich so beugt, daß er sich so beugt, daß er sich so beugt, daß er sich so beugt, daß er sich so beugt, daß er sich so beugt, daß er sich so beugt, daß er sich so beugt, daß er sich so beugt, daß er sich so beugt, daß er sich so beugt, daß er sich so beugt, daß er sich so beugt, daß er sich so beugt, daß er sich so beugt, daß er sich so beugt, daß er sich so beugt, daß er sich so beugt, daß er sich so beugt, daß er sich so beugt, daß er sich so beugt, daß er sich so beugt, daß er sich so beugt, daß er sich so beugt, daß er sich so beugt, daß er sich so beugt, daß er sich so beugt, daß er sich so beugt, daß er sich so beugt, daß er sich so beugt, daß er sich so beugt, daß er sich so beugt, daß er sich so beugt, daß er sich so beugt, daß er sich so beugt, daß er sich so beugt, daß er sich so beugt, daß er sich so beugt, daß er sich so beugt, daß er sich so beugt, daß er sich so beugt, daß er sich so beugt, daß er sich so beugt, daß er sich so beugt, daß er sich so beugt, daß er sich so beugt, daß er sich so beugt, daß er sich so beugt, daß er sich so beugt, daß er sich so beugt, daß er sich so beugt, daß er sich so beugt, daß er sich so beugt, daß er sich so beugt, daß er sich so beugt, daß er sich so beugt, daß er sich so beugt, daß er sich so beugt, daß er sich so beugt, daß er sich so beugt, daß er sich so beugt, daß er sich so beugt, daß er sich so beugt, daß er sich so beugt, daß er sich so beugt, daß er sich so beugt, daß er sich so beugt, daß er sich so beugt, daß er sich so beugt, daß er sich so beugt, daß er sich so beugt, daß er sich so beugt, daß er sich so beugt, daß er sich so beugt, daß er sich so beugt, daß er sich so beugt, daß er sich so beugt, daß er sich so beugt, daß er sich so beugt, daß er sich so beugt, daß er sich so beugt, daß er sich so beugt, daß er sich so beugt, daß er sich so beugt, daß er sich so beugt.\n",
      "\n",
      "---\n",
      "\n",
      "Based on the text, the sentiment expressed towards NSDAP is:\n",
      "\n",
      "**-2** (strong opposition or criticism)\n",
      "\n",
      "The text describes Hitler's actions and mentions him seeking power and engaging in \"gierigen Ausbeutungen\" (greedy exploitations), which are strongly critical and opposing towards NSDAP.\n"
     ]
    }
   ],
   "source": [
    "api_key = os.environ[\"MISTRAL_API_KEY\"]\n",
    "model = \"mistral-large-latest\"\n",
    "\n",
    "client = Mistral(api_key=api_key)\n",
    "\n",
    "with open(\"ocr_output.md\", \"r\", encoding=\"utf-8\") as file:\n",
    "    md_content = file.read()\n",
    "\n",
    "prompt = f\"\"\"\n",
    "    \"You are given an OCR-extracted newspaper article here {md_content} from the period 1920–1945. \"\n",
    "    \"Your task is to evaluate accordingly to the metric of criticism towards NSDAP. \"\n",
    "    \"Primarily base your evaluation on keywords that indicate their opinion towards \"\n",
    "    \"the NSDAP but also include the semantics of the text. \"\n",
    "    \"Range: -2 being critical and opposing, 0 being neutral, 2 being supportive towards NSDAP.\"\n",
    "\"\"\"\n",
    "\n",
    "# Call the Mistral model with the constructed prompt\n",
    "chat_response = client.chat.complete(\n",
    "    model=model,\n",
    "    messages=[\n",
    "        {\n",
    "            \"role\": \"user\",\n",
    "            \"content\": prompt,\n",
    "        },\n",
    "    ]\n",
    ")\n",
    "\n",
    "# Print the response\n",
    "print(chat_response.choices[0].message.content)"
   ]
  }
 ],
 "metadata": {
  "kernelspec": {
   "display_name": ".venv",
   "language": "python",
   "name": "python3"
  },
  "language_info": {
   "codemirror_mode": {
    "name": "ipython",
    "version": 3
   },
   "file_extension": ".py",
   "mimetype": "text/x-python",
   "name": "python",
   "nbconvert_exporter": "python",
   "pygments_lexer": "ipython3",
   "version": "3.13.0"
  }
 },
 "nbformat": 4,
 "nbformat_minor": 5
}
